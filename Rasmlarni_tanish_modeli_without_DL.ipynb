{
  "nbformat": 4,
  "nbformat_minor": 0,
  "metadata": {
    "colab": {
      "provenance": [],
      "gpuType": "T4",
      "mount_file_id": "1EKNuuRwaR9AUjjv3V7bNTSrPr7IxLZDe",
      "authorship_tag": "ABX9TyPbHZ16V4ICr8Wyv8+sQRwv",
      "include_colab_link": true
    },
    "kernelspec": {
      "name": "python3",
      "display_name": "Python 3"
    },
    "language_info": {
      "name": "python"
    },
    "accelerator": "GPU"
  },
  "cells": [
    {
      "cell_type": "markdown",
      "metadata": {
        "id": "view-in-github",
        "colab_type": "text"
      },
      "source": [
        "<a href=\"https://colab.research.google.com/github/Yunus200407/TransportsClassification/blob/main/Rasmlarni_tanish_modeli_without_DL.ipynb\" target=\"_parent\"><img src=\"https://colab.research.google.com/assets/colab-badge.svg\" alt=\"Open In Colab\"/></a>"
      ]
    },
    {
      "cell_type": "code",
      "execution_count": 1,
      "metadata": {
        "id": "ecokQKCc03_r"
      },
      "outputs": [],
      "source": [
        "import fastai\n",
        "import torch"
      ]
    },
    {
      "cell_type": "code",
      "source": [
        "from fastai.vision.all import *\n",
        "#Path\n",
        "path = untar_data(URLs.MNIST_SAMPLE)\n",
        "\n",
        "threes=(path/'train'/'3').ls().sorted()\n",
        "sevens=(path/'train'/'7').ls().sorted()"
      ],
      "metadata": {
        "id": "DayUu8Ua1HuL"
      },
      "execution_count": 6,
      "outputs": []
    },
    {
      "cell_type": "code",
      "source": [
        "im3_sample=threes[5]\n",
        "im3=Image.open(im3_sample)\n",
        "im3"
      ],
      "metadata": {
        "colab": {
          "base_uri": "https://localhost:8080/",
          "height": 45
        },
        "id": "DlztYDGM1U6S",
        "outputId": "7999a038-5374-414b-d3c8-252386a37115"
      },
      "execution_count": 17,
      "outputs": [
        {
          "output_type": "execute_result",
          "data": {
            "text/plain": [
              "<PIL.PngImagePlugin.PngImageFile image mode=L size=28x28>"
            ],
            "image/png": "[encoded data removed]",
            "image/jpeg": "[encoded data removed]"
          },
          "metadata": {},
          "execution_count": 17
        }
      ]
    },
    {
      "cell_type": "code",
      "source": [
        "array(im3)[4:10,4:10]"
      ],
      "metadata": {
        "colab": {
          "base_uri": "https://localhost:8080/"
        },
        "id": "GHNAkm9j2pEk",
        "outputId": "487c17c0-7b1a-4d48-a249-91aaf134cf54"
      },
      "execution_count": 18,
      "outputs": [
        {
          "output_type": "execute_result",
          "data": {
            "text/plain": [
              "array([[  0,   0,   0,  62, 239, 252],\n",
              "       [  0,   0,   0, 162, 252, 252],\n",
              "       [  0,   0,   0,  40, 217, 252],\n",
              "       [  0,   0,   0,   0,  38,  99],\n",
              "       [  0,   0,   0,   0,   0,   0],\n",
              "       [  0,   0,   0,   0,   0,   0]], dtype=uint8)"
            ]
          },
          "metadata": {},
          "execution_count": 18
        }
      ]
    },
    {
      "cell_type": "code",
      "source": [
        "tensor(im3)[4:10,4:10]"
      ],
      "metadata": {
        "colab": {
          "base_uri": "https://localhost:8080/"
        },
        "id": "ehQs4jde4kk9",
        "outputId": "a4945f92-df5e-4f89-a4e1-93d64f1385bd"
      },
      "execution_count": 19,
      "outputs": [
        {
          "output_type": "execute_result",
          "data": {
            "text/plain": [
              "tensor([[  0,   0,   0,  62, 239, 252],\n",
              "        [  0,   0,   0, 162, 252, 252],\n",
              "        [  0,   0,   0,  40, 217, 252],\n",
              "        [  0,   0,   0,   0,  38,  99],\n",
              "        [  0,   0,   0,   0,   0,   0],\n",
              "        [  0,   0,   0,   0,   0,   0]], dtype=torch.uint8)"
            ]
          },
          "metadata": {},
          "execution_count": 19
        }
      ]
    },
    {
      "cell_type": "code",
      "source": [
        "import pandas as pd\n",
        "\n",
        "im3_t=tensor(im3)\n",
        "df= pd.DataFrame(im3_t[4:21, 4:21])\n",
        "df.style.set_properties(**{'font-size':'6pt'}).background_gradient('Greys')"
      ],
      "metadata": {
        "colab": {
          "base_uri": "https://localhost:8080/",
          "height": 582
        },
        "id": "2_qfplWN4pHd",
        "outputId": "e0a623f3-c21b-4d8d-8540-3efb53c74623"
      },
      "execution_count": 20,
      "outputs": [
        {
          "output_type": "execute_result",
          "data": {
            "text/plain": [
              "<pandas.io.formats.style.Styler at 0x7acdeb35a810>"
            ],
            "text/html": [
              "<style type=\"text/css\">\n",
              "#T_a653b_row0_col0, #T_a653b_row0_col1, #T_a653b_row0_col2, #T_a653b_row0_col14, #T_a653b_row0_col15, #T_a653b_row0_col16, #T_a653b_row1_col0, #T_a653b_row1_col1, #T_a653b_row1_col2, #T_a653b_row1_col14, #T_a653b_row1_col15, #T_a653b_row1_col16, #T_a653b_row2_col0, #T_a653b_row2_col1, #T_a653b_row2_col2, #T_a653b_row2_col15, #T_a653b_row2_col16, #T_a653b_row3_col0, #T_a653b_row3_col1, #T_a653b_row3_col2, #T_a653b_row3_col3, #T_a653b_row3_col7, #T_a653b_row3_col8, #T_a653b_row3_col9, #T_a653b_row3_col15, #T_a653b_row3_col16, #T_a653b_row4_col0, #T_a653b_row4_col1, #T_a653b_row4_col2, #T_a653b_row4_col3, #T_a653b_row4_col4, #T_a653b_row4_col5, #T_a653b_row4_col6, #T_a653b_row4_col7, #T_a653b_row4_col8, #T_a653b_row4_col9, #T_a653b_row4_col10, #T_a653b_row4_col15, #T_a653b_row4_col16, #T_a653b_row5_col0, #T_a653b_row5_col1, #T_a653b_row5_col2, #T_a653b_row5_col3, #T_a653b_row5_col4, #T_a653b_row5_col5, #T_a653b_row5_col6, #T_a653b_row5_col7, #T_a653b_row5_col8, #T_a653b_row5_col9, #T_a653b_row5_col10, #T_a653b_row5_col11, #T_a653b_row5_col15, #T_a653b_row5_col16, #T_a653b_row6_col0, #T_a653b_row6_col1, #T_a653b_row6_col2, #T_a653b_row6_col3, #T_a653b_row6_col4, #T_a653b_row6_col5, #T_a653b_row6_col6, #T_a653b_row6_col7, #T_a653b_row6_col8, #T_a653b_row6_col9, #T_a653b_row6_col10, #T_a653b_row6_col15, #T_a653b_row6_col16, #T_a653b_row7_col0, #T_a653b_row7_col1, #T_a653b_row7_col2, #T_a653b_row7_col3, #T_a653b_row7_col4, #T_a653b_row7_col5, #T_a653b_row7_col6, #T_a653b_row7_col7, #T_a653b_row7_col8, #T_a653b_row7_col9, #T_a653b_row7_col10, #T_a653b_row7_col15, #T_a653b_row7_col16, #T_a653b_row8_col0, #T_a653b_row8_col1, #T_a653b_row8_col2, #T_a653b_row8_col3, #T_a653b_row8_col4, #T_a653b_row8_col5, #T_a653b_row8_col6, #T_a653b_row8_col7, #T_a653b_row8_col8, #T_a653b_row8_col9, #T_a653b_row8_col15, #T_a653b_row8_col16, #T_a653b_row9_col0, #T_a653b_row9_col1, #T_a653b_row9_col2, #T_a653b_row9_col3, #T_a653b_row9_col4, #T_a653b_row9_col5, #T_a653b_row10_col2, #T_a653b_row10_col3, #T_a653b_row10_col4, #T_a653b_row10_col5, #T_a653b_row11_col4, #T_a653b_row11_col5, #T_a653b_row12_col5, #T_a653b_row13_col9, #T_a653b_row13_col10, #T_a653b_row13_col11, #T_a653b_row14_col10, #T_a653b_row14_col11, #T_a653b_row14_col12, #T_a653b_row14_col13, #T_a653b_row15_col0, #T_a653b_row16_col0, #T_a653b_row16_col1, #T_a653b_row16_col2 {\n",
              "  font-size: 6pt;\n",
              "  background-color: #ffffff;\n",
              "  color: #000000;\n",
              "}\n",
              "#T_a653b_row0_col3 {\n",
              "  font-size: 6pt;\n",
              "  background-color: #dadada;\n",
              "  color: #000000;\n",
              "}\n",
              "#T_a653b_row0_col4, #T_a653b_row13_col0 {\n",
              "  font-size: 6pt;\n",
              "  background-color: #0f0f0f;\n",
              "  color: #f1f1f1;\n",
              "}\n",
              "#T_a653b_row0_col5, #T_a653b_row0_col6, #T_a653b_row0_col7, #T_a653b_row1_col4, #T_a653b_row1_col5, #T_a653b_row1_col6, #T_a653b_row1_col7, #T_a653b_row2_col5, #T_a653b_row9_col8, #T_a653b_row9_col9, #T_a653b_row9_col10, #T_a653b_row9_col11, #T_a653b_row9_col12, #T_a653b_row9_col13, #T_a653b_row10_col7, #T_a653b_row10_col14, #T_a653b_row10_col15, #T_a653b_row11_col7, #T_a653b_row11_col14, #T_a653b_row11_col15, #T_a653b_row11_col16, #T_a653b_row12_col0, #T_a653b_row12_col1, #T_a653b_row12_col2, #T_a653b_row12_col14, #T_a653b_row12_col15, #T_a653b_row12_col16, #T_a653b_row13_col1, #T_a653b_row13_col2, #T_a653b_row13_col3, #T_a653b_row13_col15, #T_a653b_row13_col16, #T_a653b_row14_col2, #T_a653b_row14_col3, #T_a653b_row14_col4, #T_a653b_row14_col5, #T_a653b_row14_col15, #T_a653b_row14_col16, #T_a653b_row15_col4, #T_a653b_row15_col5, #T_a653b_row15_col6, #T_a653b_row15_col7, #T_a653b_row15_col15, #T_a653b_row15_col16, #T_a653b_row16_col5, #T_a653b_row16_col6, #T_a653b_row16_col7, #T_a653b_row16_col14, #T_a653b_row16_col15, #T_a653b_row16_col16 {\n",
              "  font-size: 6pt;\n",
              "  background-color: #000000;\n",
              "  color: #f1f1f1;\n",
              "}\n",
              "#T_a653b_row0_col8, #T_a653b_row0_col10, #T_a653b_row1_col8, #T_a653b_row1_col10, #T_a653b_row1_col11, #T_a653b_row1_col12, #T_a653b_row2_col11, #T_a653b_row2_col12, #T_a653b_row3_col12, #T_a653b_row3_col13, #T_a653b_row4_col13, #T_a653b_row5_col13, #T_a653b_row6_col13, #T_a653b_row7_col12, #T_a653b_row7_col13, #T_a653b_row8_col12, #T_a653b_row8_col13, #T_a653b_row10_col8, #T_a653b_row10_col10, #T_a653b_row10_col11, #T_a653b_row10_col12, #T_a653b_row10_col13, #T_a653b_row11_col8, #T_a653b_row11_col10, #T_a653b_row11_col11, #T_a653b_row11_col12, #T_a653b_row11_col13, #T_a653b_row12_col8, #T_a653b_row12_col13, #T_a653b_row15_col8, #T_a653b_row16_col8, #T_a653b_row16_col10, #T_a653b_row16_col11, #T_a653b_row16_col12, #T_a653b_row16_col13 {\n",
              "  font-size: 6pt;\n",
              "  background-color: #010101;\n",
              "  color: #f1f1f1;\n",
              "}\n",
              "#T_a653b_row0_col9, #T_a653b_row1_col9, #T_a653b_row10_col9, #T_a653b_row11_col9, #T_a653b_row16_col9 {\n",
              "  font-size: 6pt;\n",
              "  background-color: #020202;\n",
              "  color: #f1f1f1;\n",
              "}\n",
              "#T_a653b_row0_col11, #T_a653b_row4_col14, #T_a653b_row5_col14, #T_a653b_row6_col14, #T_a653b_row7_col14 {\n",
              "  font-size: 6pt;\n",
              "  background-color: #232323;\n",
              "  color: #f1f1f1;\n",
              "}\n",
              "#T_a653b_row0_col12 {\n",
              "  font-size: 6pt;\n",
              "  background-color: #898989;\n",
              "  color: #f1f1f1;\n",
              "}\n",
              "#T_a653b_row0_col13, #T_a653b_row3_col10, #T_a653b_row6_col11, #T_a653b_row9_col16, #T_a653b_row13_col7, #T_a653b_row15_col1 {\n",
              "  font-size: 6pt;\n",
              "  background-color: #fcfcfc;\n",
              "  color: #000000;\n",
              "}\n",
              "#T_a653b_row1_col3 {\n",
              "  font-size: 6pt;\n",
              "  background-color: #6e6e6e;\n",
              "  color: #f1f1f1;\n",
              "}\n",
              "#T_a653b_row1_col13 {\n",
              "  font-size: 6pt;\n",
              "  background-color: #979797;\n",
              "  color: #f1f1f1;\n",
              "}\n",
              "#T_a653b_row2_col3 {\n",
              "  font-size: 6pt;\n",
              "  background-color: #eaeaea;\n",
              "  color: #000000;\n",
              "}\n",
              "#T_a653b_row2_col4 {\n",
              "  font-size: 6pt;\n",
              "  background-color: #292929;\n",
              "  color: #f1f1f1;\n",
              "}\n",
              "#T_a653b_row2_col6 {\n",
              "  font-size: 6pt;\n",
              "  background-color: #878787;\n",
              "  color: #f1f1f1;\n",
              "}\n",
              "#T_a653b_row2_col7 {\n",
              "  font-size: 6pt;\n",
              "  background-color: #8f8f8f;\n",
              "  color: #f1f1f1;\n",
              "}\n",
              "#T_a653b_row2_col8, #T_a653b_row2_col9, #T_a653b_row12_col9, #T_a653b_row12_col10, #T_a653b_row12_col11 {\n",
              "  font-size: 6pt;\n",
              "  background-color: #909090;\n",
              "  color: #f1f1f1;\n",
              "}\n",
              "#T_a653b_row2_col10, #T_a653b_row11_col0 {\n",
              "  font-size: 6pt;\n",
              "  background-color: #717171;\n",
              "  color: #f1f1f1;\n",
              "}\n",
              "#T_a653b_row2_col13 {\n",
              "  font-size: 6pt;\n",
              "  background-color: #323232;\n",
              "  color: #f1f1f1;\n",
              "}\n",
              "#T_a653b_row2_col14 {\n",
              "  font-size: 6pt;\n",
              "  background-color: #eeeeee;\n",
              "  color: #000000;\n",
              "}\n",
              "#T_a653b_row3_col4 {\n",
              "  font-size: 6pt;\n",
              "  background-color: #ececec;\n",
              "  color: #000000;\n",
              "}\n",
              "#T_a653b_row3_col5, #T_a653b_row9_col6 {\n",
              "  font-size: 6pt;\n",
              "  background-color: #b8b8b8;\n",
              "  color: #000000;\n",
              "}\n",
              "#T_a653b_row3_col6 {\n",
              "  font-size: 6pt;\n",
              "  background-color: #fefefe;\n",
              "  color: #000000;\n",
              "}\n",
              "#T_a653b_row3_col11 {\n",
              "  font-size: 6pt;\n",
              "  background-color: #636363;\n",
              "  color: #f1f1f1;\n",
              "}\n",
              "#T_a653b_row3_col14 {\n",
              "  font-size: 6pt;\n",
              "  background-color: #3a3a3a;\n",
              "  color: #f1f1f1;\n",
              "}\n",
              "#T_a653b_row4_col11, #T_a653b_row12_col6 {\n",
              "  font-size: 6pt;\n",
              "  background-color: #e4e4e4;\n",
              "  color: #000000;\n",
              "}\n",
              "#T_a653b_row4_col12 {\n",
              "  font-size: 6pt;\n",
              "  background-color: #757575;\n",
              "  color: #f1f1f1;\n",
              "}\n",
              "#T_a653b_row5_col12 {\n",
              "  font-size: 6pt;\n",
              "  background-color: #9e9e9e;\n",
              "  color: #f1f1f1;\n",
              "}\n",
              "#T_a653b_row6_col12 {\n",
              "  font-size: 6pt;\n",
              "  background-color: #6b6b6b;\n",
              "  color: #f1f1f1;\n",
              "}\n",
              "#T_a653b_row7_col11 {\n",
              "  font-size: 6pt;\n",
              "  background-color: #939393;\n",
              "  color: #f1f1f1;\n",
              "}\n",
              "#T_a653b_row8_col10 {\n",
              "  font-size: 6pt;\n",
              "  background-color: #ededed;\n",
              "  color: #000000;\n",
              "}\n",
              "#T_a653b_row8_col11 {\n",
              "  font-size: 6pt;\n",
              "  background-color: #2c2c2c;\n",
              "  color: #f1f1f1;\n",
              "}\n",
              "#T_a653b_row8_col14, #T_a653b_row15_col10, #T_a653b_row15_col11, #T_a653b_row15_col12, #T_a653b_row15_col13 {\n",
              "  font-size: 6pt;\n",
              "  background-color: #8e8e8e;\n",
              "  color: #f1f1f1;\n",
              "}\n",
              "#T_a653b_row9_col7 {\n",
              "  font-size: 6pt;\n",
              "  background-color: #272727;\n",
              "  color: #f1f1f1;\n",
              "}\n",
              "#T_a653b_row9_col14 {\n",
              "  font-size: 6pt;\n",
              "  background-color: #7e7e7e;\n",
              "  color: #f1f1f1;\n",
              "}\n",
              "#T_a653b_row9_col15 {\n",
              "  font-size: 6pt;\n",
              "  background-color: #b0b0b0;\n",
              "  color: #000000;\n",
              "}\n",
              "#T_a653b_row10_col0, #T_a653b_row13_col12 {\n",
              "  font-size: 6pt;\n",
              "  background-color: #f8f8f8;\n",
              "  color: #000000;\n",
              "}\n",
              "#T_a653b_row10_col1, #T_a653b_row13_col6 {\n",
              "  font-size: 6pt;\n",
              "  background-color: #dedede;\n",
              "  color: #000000;\n",
              "}\n",
              "#T_a653b_row10_col6 {\n",
              "  font-size: 6pt;\n",
              "  background-color: #101010;\n",
              "  color: #f1f1f1;\n",
              "}\n",
              "#T_a653b_row10_col16 {\n",
              "  font-size: 6pt;\n",
              "  background-color: #727272;\n",
              "  color: #f1f1f1;\n",
              "}\n",
              "#T_a653b_row11_col1 {\n",
              "  font-size: 6pt;\n",
              "  background-color: #070707;\n",
              "  color: #f1f1f1;\n",
              "}\n",
              "#T_a653b_row11_col2 {\n",
              "  font-size: 6pt;\n",
              "  background-color: #bebebe;\n",
              "  color: #000000;\n",
              "}\n",
              "#T_a653b_row11_col3 {\n",
              "  font-size: 6pt;\n",
              "  background-color: #fafafa;\n",
              "  color: #000000;\n",
              "}\n",
              "#T_a653b_row11_col6 {\n",
              "  font-size: 6pt;\n",
              "  background-color: #1b1b1b;\n",
              "  color: #f1f1f1;\n",
              "}\n",
              "#T_a653b_row12_col3 {\n",
              "  font-size: 6pt;\n",
              "  background-color: #303030;\n",
              "  color: #f1f1f1;\n",
              "}\n",
              "#T_a653b_row12_col4 {\n",
              "  font-size: 6pt;\n",
              "  background-color: #afafaf;\n",
              "  color: #000000;\n",
              "}\n",
              "#T_a653b_row12_col7 {\n",
              "  font-size: 6pt;\n",
              "  background-color: #787878;\n",
              "  color: #f1f1f1;\n",
              "}\n",
              "#T_a653b_row12_col12 {\n",
              "  font-size: 6pt;\n",
              "  background-color: #525252;\n",
              "  color: #f1f1f1;\n",
              "}\n",
              "#T_a653b_row13_col4 {\n",
              "  font-size: 6pt;\n",
              "  background-color: #050505;\n",
              "  color: #f1f1f1;\n",
              "}\n",
              "#T_a653b_row13_col5 {\n",
              "  font-size: 6pt;\n",
              "  background-color: #222222;\n",
              "  color: #f1f1f1;\n",
              "}\n",
              "#T_a653b_row13_col8, #T_a653b_row13_col13, #T_a653b_row14_col8, #T_a653b_row14_col14 {\n",
              "  font-size: 6pt;\n",
              "  background-color: #f1f1f1;\n",
              "  color: #000000;\n",
              "}\n",
              "#T_a653b_row13_col14 {\n",
              "  font-size: 6pt;\n",
              "  background-color: #838383;\n",
              "  color: #f1f1f1;\n",
              "}\n",
              "#T_a653b_row14_col0 {\n",
              "  font-size: 6pt;\n",
              "  background-color: #dbdbdb;\n",
              "  color: #000000;\n",
              "}\n",
              "#T_a653b_row14_col1 {\n",
              "  font-size: 6pt;\n",
              "  background-color: #656565;\n",
              "  color: #f1f1f1;\n",
              "}\n",
              "#T_a653b_row14_col6 {\n",
              "  font-size: 6pt;\n",
              "  background-color: #1e1e1e;\n",
              "  color: #f1f1f1;\n",
              "}\n",
              "#T_a653b_row14_col7 {\n",
              "  font-size: 6pt;\n",
              "  background-color: #797979;\n",
              "  color: #f1f1f1;\n",
              "}\n",
              "#T_a653b_row14_col9 {\n",
              "  font-size: 6pt;\n",
              "  background-color: #f7f7f7;\n",
              "  color: #000000;\n",
              "}\n",
              "#T_a653b_row15_col2 {\n",
              "  font-size: 6pt;\n",
              "  background-color: #a0a0a0;\n",
              "  color: #f1f1f1;\n",
              "}\n",
              "#T_a653b_row15_col3 {\n",
              "  font-size: 6pt;\n",
              "  background-color: #131313;\n",
              "  color: #f1f1f1;\n",
              "}\n",
              "#T_a653b_row15_col9 {\n",
              "  font-size: 6pt;\n",
              "  background-color: #404040;\n",
              "  color: #f1f1f1;\n",
              "}\n",
              "#T_a653b_row15_col14 {\n",
              "  font-size: 6pt;\n",
              "  background-color: #7d7d7d;\n",
              "  color: #f1f1f1;\n",
              "}\n",
              "#T_a653b_row16_col3 {\n",
              "  font-size: 6pt;\n",
              "  background-color: #f9f9f9;\n",
              "  color: #000000;\n",
              "}\n",
              "#T_a653b_row16_col4 {\n",
              "  font-size: 6pt;\n",
              "  background-color: #929292;\n",
              "  color: #f1f1f1;\n",
              "}\n",
              "</style>\n",
              "<table id=\"T_a653b\" class=\"dataframe\">\n",
              "  <thead>\n",
              "    <tr>\n",
              "      <th class=\"blank level0\" >&nbsp;</th>\n",
              "      <th id=\"T_a653b_level0_col0\" class=\"col_heading level0 col0\" >0</th>\n",
              "      <th id=\"T_a653b_level0_col1\" class=\"col_heading level0 col1\" >1</th>\n",
              "      <th id=\"T_a653b_level0_col2\" class=\"col_heading level0 col2\" >2</th>\n",
              "      <th id=\"T_a653b_level0_col3\" class=\"col_heading level0 col3\" >3</th>\n",
              "      <th id=\"T_a653b_level0_col4\" class=\"col_heading level0 col4\" >4</th>\n",
              "      <th id=\"T_a653b_level0_col5\" class=\"col_heading level0 col5\" >5</th>\n",
              "      <th id=\"T_a653b_level0_col6\" class=\"col_heading level0 col6\" >6</th>\n",
              "      <th id=\"T_a653b_level0_col7\" class=\"col_heading level0 col7\" >7</th>\n",
              "      <th id=\"T_a653b_level0_col8\" class=\"col_heading level0 col8\" >8</th>\n",
              "      <th id=\"T_a653b_level0_col9\" class=\"col_heading level0 col9\" >9</th>\n",
              "      <th id=\"T_a653b_level0_col10\" class=\"col_heading level0 col10\" >10</th>\n",
              "      <th id=\"T_a653b_level0_col11\" class=\"col_heading level0 col11\" >11</th>\n",
              "      <th id=\"T_a653b_level0_col12\" class=\"col_heading level0 col12\" >12</th>\n",
              "      <th id=\"T_a653b_level0_col13\" class=\"col_heading level0 col13\" >13</th>\n",
              "      <th id=\"T_a653b_level0_col14\" class=\"col_heading level0 col14\" >14</th>\n",
              "      <th id=\"T_a653b_level0_col15\" class=\"col_heading level0 col15\" >15</th>\n",
              "      <th id=\"T_a653b_level0_col16\" class=\"col_heading level0 col16\" >16</th>\n",
              "    </tr>\n",
              "  </thead>\n",
              "  <tbody>\n",
              "    <tr>\n",
              "      <th id=\"T_a653b_level0_row0\" class=\"row_heading level0 row0\" >0</th>\n",
              "      <td id=\"T_a653b_row0_col0\" class=\"data row0 col0\" >0</td>\n",
              "      <td id=\"T_a653b_row0_col1\" class=\"data row0 col1\" >0</td>\n",
              "      <td id=\"T_a653b_row0_col2\" class=\"data row0 col2\" >0</td>\n",
              "      <td id=\"T_a653b_row0_col3\" class=\"data row0 col3\" >62</td>\n",
              "      <td id=\"T_a653b_row0_col4\" class=\"data row0 col4\" >239</td>\n",
              "      <td id=\"T_a653b_row0_col5\" class=\"data row0 col5\" >252</td>\n",
              "      <td id=\"T_a653b_row0_col6\" class=\"data row0 col6\" >252</td>\n",
              "      <td id=\"T_a653b_row0_col7\" class=\"data row0 col7\" >252</td>\n",
              "      <td id=\"T_a653b_row0_col8\" class=\"data row0 col8\" >252</td>\n",
              "      <td id=\"T_a653b_row0_col9\" class=\"data row0 col9\" >253</td>\n",
              "      <td id=\"T_a653b_row0_col10\" class=\"data row0 col10\" >252</td>\n",
              "      <td id=\"T_a653b_row0_col11\" class=\"data row0 col11\" >223</td>\n",
              "      <td id=\"T_a653b_row0_col12\" class=\"data row0 col12\" >138</td>\n",
              "      <td id=\"T_a653b_row0_col13\" class=\"data row0 col13\" >7</td>\n",
              "      <td id=\"T_a653b_row0_col14\" class=\"data row0 col14\" >0</td>\n",
              "      <td id=\"T_a653b_row0_col15\" class=\"data row0 col15\" >0</td>\n",
              "      <td id=\"T_a653b_row0_col16\" class=\"data row0 col16\" >0</td>\n",
              "    </tr>\n",
              "    <tr>\n",
              "      <th id=\"T_a653b_level0_row1\" class=\"row_heading level0 row1\" >1</th>\n",
              "      <td id=\"T_a653b_row1_col0\" class=\"data row1 col0\" >0</td>\n",
              "      <td id=\"T_a653b_row1_col1\" class=\"data row1 col1\" >0</td>\n",
              "      <td id=\"T_a653b_row1_col2\" class=\"data row1 col2\" >0</td>\n",
              "      <td id=\"T_a653b_row1_col3\" class=\"data row1 col3\" >162</td>\n",
              "      <td id=\"T_a653b_row1_col4\" class=\"data row1 col4\" >252</td>\n",
              "      <td id=\"T_a653b_row1_col5\" class=\"data row1 col5\" >252</td>\n",
              "      <td id=\"T_a653b_row1_col6\" class=\"data row1 col6\" >252</td>\n",
              "      <td id=\"T_a653b_row1_col7\" class=\"data row1 col7\" >252</td>\n",
              "      <td id=\"T_a653b_row1_col8\" class=\"data row1 col8\" >252</td>\n",
              "      <td id=\"T_a653b_row1_col9\" class=\"data row1 col9\" >253</td>\n",
              "      <td id=\"T_a653b_row1_col10\" class=\"data row1 col10\" >252</td>\n",
              "      <td id=\"T_a653b_row1_col11\" class=\"data row1 col11\" >252</td>\n",
              "      <td id=\"T_a653b_row1_col12\" class=\"data row1 col12\" >252</td>\n",
              "      <td id=\"T_a653b_row1_col13\" class=\"data row1 col13\" >126</td>\n",
              "      <td id=\"T_a653b_row1_col14\" class=\"data row1 col14\" >0</td>\n",
              "      <td id=\"T_a653b_row1_col15\" class=\"data row1 col15\" >0</td>\n",
              "      <td id=\"T_a653b_row1_col16\" class=\"data row1 col16\" >0</td>\n",
              "    </tr>\n",
              "    <tr>\n",
              "      <th id=\"T_a653b_level0_row2\" class=\"row_heading level0 row2\" >2</th>\n",
              "      <td id=\"T_a653b_row2_col0\" class=\"data row2 col0\" >0</td>\n",
              "      <td id=\"T_a653b_row2_col1\" class=\"data row2 col1\" >0</td>\n",
              "      <td id=\"T_a653b_row2_col2\" class=\"data row2 col2\" >0</td>\n",
              "      <td id=\"T_a653b_row2_col3\" class=\"data row2 col3\" >40</td>\n",
              "      <td id=\"T_a653b_row2_col4\" class=\"data row2 col4\" >217</td>\n",
              "      <td id=\"T_a653b_row2_col5\" class=\"data row2 col5\" >252</td>\n",
              "      <td id=\"T_a653b_row2_col6\" class=\"data row2 col6\" >139</td>\n",
              "      <td id=\"T_a653b_row2_col7\" class=\"data row2 col7\" >132</td>\n",
              "      <td id=\"T_a653b_row2_col8\" class=\"data row2 col8\" >132</td>\n",
              "      <td id=\"T_a653b_row2_col9\" class=\"data row2 col9\" >133</td>\n",
              "      <td id=\"T_a653b_row2_col10\" class=\"data row2 col10\" >160</td>\n",
              "      <td id=\"T_a653b_row2_col11\" class=\"data row2 col11\" >252</td>\n",
              "      <td id=\"T_a653b_row2_col12\" class=\"data row2 col12\" >252</td>\n",
              "      <td id=\"T_a653b_row2_col13\" class=\"data row2 col13\" >212</td>\n",
              "      <td id=\"T_a653b_row2_col14\" class=\"data row2 col14\" >35</td>\n",
              "      <td id=\"T_a653b_row2_col15\" class=\"data row2 col15\" >0</td>\n",
              "      <td id=\"T_a653b_row2_col16\" class=\"data row2 col16\" >0</td>\n",
              "    </tr>\n",
              "    <tr>\n",
              "      <th id=\"T_a653b_level0_row3\" class=\"row_heading level0 row3\" >3</th>\n",
              "      <td id=\"T_a653b_row3_col0\" class=\"data row3 col0\" >0</td>\n",
              "      <td id=\"T_a653b_row3_col1\" class=\"data row3 col1\" >0</td>\n",
              "      <td id=\"T_a653b_row3_col2\" class=\"data row3 col2\" >0</td>\n",
              "      <td id=\"T_a653b_row3_col3\" class=\"data row3 col3\" >0</td>\n",
              "      <td id=\"T_a653b_row3_col4\" class=\"data row3 col4\" >38</td>\n",
              "      <td id=\"T_a653b_row3_col5\" class=\"data row3 col5\" >99</td>\n",
              "      <td id=\"T_a653b_row3_col6\" class=\"data row3 col6\" >2</td>\n",
              "      <td id=\"T_a653b_row3_col7\" class=\"data row3 col7\" >0</td>\n",
              "      <td id=\"T_a653b_row3_col8\" class=\"data row3 col8\" >0</td>\n",
              "      <td id=\"T_a653b_row3_col9\" class=\"data row3 col9\" >0</td>\n",
              "      <td id=\"T_a653b_row3_col10\" class=\"data row3 col10\" >7</td>\n",
              "      <td id=\"T_a653b_row3_col11\" class=\"data row3 col11\" >173</td>\n",
              "      <td id=\"T_a653b_row3_col12\" class=\"data row3 col12\" >252</td>\n",
              "      <td id=\"T_a653b_row3_col13\" class=\"data row3 col13\" >252</td>\n",
              "      <td id=\"T_a653b_row3_col14\" class=\"data row3 col14\" >205</td>\n",
              "      <td id=\"T_a653b_row3_col15\" class=\"data row3 col15\" >0</td>\n",
              "      <td id=\"T_a653b_row3_col16\" class=\"data row3 col16\" >0</td>\n",
              "    </tr>\n",
              "    <tr>\n",
              "      <th id=\"T_a653b_level0_row4\" class=\"row_heading level0 row4\" >4</th>\n",
              "      <td id=\"T_a653b_row4_col0\" class=\"data row4 col0\" >0</td>\n",
              "      <td id=\"T_a653b_row4_col1\" class=\"data row4 col1\" >0</td>\n",
              "      <td id=\"T_a653b_row4_col2\" class=\"data row4 col2\" >0</td>\n",
              "      <td id=\"T_a653b_row4_col3\" class=\"data row4 col3\" >0</td>\n",
              "      <td id=\"T_a653b_row4_col4\" class=\"data row4 col4\" >0</td>\n",
              "      <td id=\"T_a653b_row4_col5\" class=\"data row4 col5\" >0</td>\n",
              "      <td id=\"T_a653b_row4_col6\" class=\"data row4 col6\" >0</td>\n",
              "      <td id=\"T_a653b_row4_col7\" class=\"data row4 col7\" >0</td>\n",
              "      <td id=\"T_a653b_row4_col8\" class=\"data row4 col8\" >0</td>\n",
              "      <td id=\"T_a653b_row4_col9\" class=\"data row4 col9\" >0</td>\n",
              "      <td id=\"T_a653b_row4_col10\" class=\"data row4 col10\" >0</td>\n",
              "      <td id=\"T_a653b_row4_col11\" class=\"data row4 col11\" >48</td>\n",
              "      <td id=\"T_a653b_row4_col12\" class=\"data row4 col12\" >157</td>\n",
              "      <td id=\"T_a653b_row4_col13\" class=\"data row4 col13\" >252</td>\n",
              "      <td id=\"T_a653b_row4_col14\" class=\"data row4 col14\" >222</td>\n",
              "      <td id=\"T_a653b_row4_col15\" class=\"data row4 col15\" >0</td>\n",
              "      <td id=\"T_a653b_row4_col16\" class=\"data row4 col16\" >0</td>\n",
              "    </tr>\n",
              "    <tr>\n",
              "      <th id=\"T_a653b_level0_row5\" class=\"row_heading level0 row5\" >5</th>\n",
              "      <td id=\"T_a653b_row5_col0\" class=\"data row5 col0\" >0</td>\n",
              "      <td id=\"T_a653b_row5_col1\" class=\"data row5 col1\" >0</td>\n",
              "      <td id=\"T_a653b_row5_col2\" class=\"data row5 col2\" >0</td>\n",
              "      <td id=\"T_a653b_row5_col3\" class=\"data row5 col3\" >0</td>\n",
              "      <td id=\"T_a653b_row5_col4\" class=\"data row5 col4\" >0</td>\n",
              "      <td id=\"T_a653b_row5_col5\" class=\"data row5 col5\" >0</td>\n",
              "      <td id=\"T_a653b_row5_col6\" class=\"data row5 col6\" >0</td>\n",
              "      <td id=\"T_a653b_row5_col7\" class=\"data row5 col7\" >0</td>\n",
              "      <td id=\"T_a653b_row5_col8\" class=\"data row5 col8\" >0</td>\n",
              "      <td id=\"T_a653b_row5_col9\" class=\"data row5 col9\" >0</td>\n",
              "      <td id=\"T_a653b_row5_col10\" class=\"data row5 col10\" >0</td>\n",
              "      <td id=\"T_a653b_row5_col11\" class=\"data row5 col11\" >0</td>\n",
              "      <td id=\"T_a653b_row5_col12\" class=\"data row5 col12\" >120</td>\n",
              "      <td id=\"T_a653b_row5_col13\" class=\"data row5 col13\" >252</td>\n",
              "      <td id=\"T_a653b_row5_col14\" class=\"data row5 col14\" >222</td>\n",
              "      <td id=\"T_a653b_row5_col15\" class=\"data row5 col15\" >0</td>\n",
              "      <td id=\"T_a653b_row5_col16\" class=\"data row5 col16\" >0</td>\n",
              "    </tr>\n",
              "    <tr>\n",
              "      <th id=\"T_a653b_level0_row6\" class=\"row_heading level0 row6\" >6</th>\n",
              "      <td id=\"T_a653b_row6_col0\" class=\"data row6 col0\" >0</td>\n",
              "      <td id=\"T_a653b_row6_col1\" class=\"data row6 col1\" >0</td>\n",
              "      <td id=\"T_a653b_row6_col2\" class=\"data row6 col2\" >0</td>\n",
              "      <td id=\"T_a653b_row6_col3\" class=\"data row6 col3\" >0</td>\n",
              "      <td id=\"T_a653b_row6_col4\" class=\"data row6 col4\" >0</td>\n",
              "      <td id=\"T_a653b_row6_col5\" class=\"data row6 col5\" >0</td>\n",
              "      <td id=\"T_a653b_row6_col6\" class=\"data row6 col6\" >0</td>\n",
              "      <td id=\"T_a653b_row6_col7\" class=\"data row6 col7\" >0</td>\n",
              "      <td id=\"T_a653b_row6_col8\" class=\"data row6 col8\" >0</td>\n",
              "      <td id=\"T_a653b_row6_col9\" class=\"data row6 col9\" >0</td>\n",
              "      <td id=\"T_a653b_row6_col10\" class=\"data row6 col10\" >0</td>\n",
              "      <td id=\"T_a653b_row6_col11\" class=\"data row6 col11\" >6</td>\n",
              "      <td id=\"T_a653b_row6_col12\" class=\"data row6 col12\" >166</td>\n",
              "      <td id=\"T_a653b_row6_col13\" class=\"data row6 col13\" >252</td>\n",
              "      <td id=\"T_a653b_row6_col14\" class=\"data row6 col14\" >222</td>\n",
              "      <td id=\"T_a653b_row6_col15\" class=\"data row6 col15\" >0</td>\n",
              "      <td id=\"T_a653b_row6_col16\" class=\"data row6 col16\" >0</td>\n",
              "    </tr>\n",
              "    <tr>\n",
              "      <th id=\"T_a653b_level0_row7\" class=\"row_heading level0 row7\" >7</th>\n",
              "      <td id=\"T_a653b_row7_col0\" class=\"data row7 col0\" >0</td>\n",
              "      <td id=\"T_a653b_row7_col1\" class=\"data row7 col1\" >0</td>\n",
              "      <td id=\"T_a653b_row7_col2\" class=\"data row7 col2\" >0</td>\n",
              "      <td id=\"T_a653b_row7_col3\" class=\"data row7 col3\" >0</td>\n",
              "      <td id=\"T_a653b_row7_col4\" class=\"data row7 col4\" >0</td>\n",
              "      <td id=\"T_a653b_row7_col5\" class=\"data row7 col5\" >0</td>\n",
              "      <td id=\"T_a653b_row7_col6\" class=\"data row7 col6\" >0</td>\n",
              "      <td id=\"T_a653b_row7_col7\" class=\"data row7 col7\" >0</td>\n",
              "      <td id=\"T_a653b_row7_col8\" class=\"data row7 col8\" >0</td>\n",
              "      <td id=\"T_a653b_row7_col9\" class=\"data row7 col9\" >0</td>\n",
              "      <td id=\"T_a653b_row7_col10\" class=\"data row7 col10\" >0</td>\n",
              "      <td id=\"T_a653b_row7_col11\" class=\"data row7 col11\" >129</td>\n",
              "      <td id=\"T_a653b_row7_col12\" class=\"data row7 col12\" >252</td>\n",
              "      <td id=\"T_a653b_row7_col13\" class=\"data row7 col13\" >252</td>\n",
              "      <td id=\"T_a653b_row7_col14\" class=\"data row7 col14\" >222</td>\n",
              "      <td id=\"T_a653b_row7_col15\" class=\"data row7 col15\" >0</td>\n",
              "      <td id=\"T_a653b_row7_col16\" class=\"data row7 col16\" >0</td>\n",
              "    </tr>\n",
              "    <tr>\n",
              "      <th id=\"T_a653b_level0_row8\" class=\"row_heading level0 row8\" >8</th>\n",
              "      <td id=\"T_a653b_row8_col0\" class=\"data row8 col0\" >0</td>\n",
              "      <td id=\"T_a653b_row8_col1\" class=\"data row8 col1\" >0</td>\n",
              "      <td id=\"T_a653b_row8_col2\" class=\"data row8 col2\" >0</td>\n",
              "      <td id=\"T_a653b_row8_col3\" class=\"data row8 col3\" >0</td>\n",
              "      <td id=\"T_a653b_row8_col4\" class=\"data row8 col4\" >0</td>\n",
              "      <td id=\"T_a653b_row8_col5\" class=\"data row8 col5\" >0</td>\n",
              "      <td id=\"T_a653b_row8_col6\" class=\"data row8 col6\" >0</td>\n",
              "      <td id=\"T_a653b_row8_col7\" class=\"data row8 col7\" >0</td>\n",
              "      <td id=\"T_a653b_row8_col8\" class=\"data row8 col8\" >0</td>\n",
              "      <td id=\"T_a653b_row8_col9\" class=\"data row8 col9\" >0</td>\n",
              "      <td id=\"T_a653b_row8_col10\" class=\"data row8 col10\" >36</td>\n",
              "      <td id=\"T_a653b_row8_col11\" class=\"data row8 col11\" >216</td>\n",
              "      <td id=\"T_a653b_row8_col12\" class=\"data row8 col12\" >252</td>\n",
              "      <td id=\"T_a653b_row8_col13\" class=\"data row8 col13\" >252</td>\n",
              "      <td id=\"T_a653b_row8_col14\" class=\"data row8 col14\" >133</td>\n",
              "      <td id=\"T_a653b_row8_col15\" class=\"data row8 col15\" >0</td>\n",
              "      <td id=\"T_a653b_row8_col16\" class=\"data row8 col16\" >0</td>\n",
              "    </tr>\n",
              "    <tr>\n",
              "      <th id=\"T_a653b_level0_row9\" class=\"row_heading level0 row9\" >9</th>\n",
              "      <td id=\"T_a653b_row9_col0\" class=\"data row9 col0\" >0</td>\n",
              "      <td id=\"T_a653b_row9_col1\" class=\"data row9 col1\" >0</td>\n",
              "      <td id=\"T_a653b_row9_col2\" class=\"data row9 col2\" >0</td>\n",
              "      <td id=\"T_a653b_row9_col3\" class=\"data row9 col3\" >0</td>\n",
              "      <td id=\"T_a653b_row9_col4\" class=\"data row9 col4\" >0</td>\n",
              "      <td id=\"T_a653b_row9_col5\" class=\"data row9 col5\" >0</td>\n",
              "      <td id=\"T_a653b_row9_col6\" class=\"data row9 col6\" >99</td>\n",
              "      <td id=\"T_a653b_row9_col7\" class=\"data row9 col7\" >219</td>\n",
              "      <td id=\"T_a653b_row9_col8\" class=\"data row9 col8\" >253</td>\n",
              "      <td id=\"T_a653b_row9_col9\" class=\"data row9 col9\" >255</td>\n",
              "      <td id=\"T_a653b_row9_col10\" class=\"data row9 col10\" >253</td>\n",
              "      <td id=\"T_a653b_row9_col11\" class=\"data row9 col11\" >253</td>\n",
              "      <td id=\"T_a653b_row9_col12\" class=\"data row9 col12\" >253</td>\n",
              "      <td id=\"T_a653b_row9_col13\" class=\"data row9 col13\" >253</td>\n",
              "      <td id=\"T_a653b_row9_col14\" class=\"data row9 col14\" >147</td>\n",
              "      <td id=\"T_a653b_row9_col15\" class=\"data row9 col15\" >105</td>\n",
              "      <td id=\"T_a653b_row9_col16\" class=\"data row9 col16\" >6</td>\n",
              "    </tr>\n",
              "    <tr>\n",
              "      <th id=\"T_a653b_level0_row10\" class=\"row_heading level0 row10\" >10</th>\n",
              "      <td id=\"T_a653b_row10_col0\" class=\"data row10 col0\" >15</td>\n",
              "      <td id=\"T_a653b_row10_col1\" class=\"data row10 col1\" >57</td>\n",
              "      <td id=\"T_a653b_row10_col2\" class=\"data row10 col2\" >0</td>\n",
              "      <td id=\"T_a653b_row10_col3\" class=\"data row10 col3\" >0</td>\n",
              "      <td id=\"T_a653b_row10_col4\" class=\"data row10 col4\" >0</td>\n",
              "      <td id=\"T_a653b_row10_col5\" class=\"data row10 col5\" >0</td>\n",
              "      <td id=\"T_a653b_row10_col6\" class=\"data row10 col6\" >238</td>\n",
              "      <td id=\"T_a653b_row10_col7\" class=\"data row10 col7\" >252</td>\n",
              "      <td id=\"T_a653b_row10_col8\" class=\"data row10 col8\" >252</td>\n",
              "      <td id=\"T_a653b_row10_col9\" class=\"data row10 col9\" >253</td>\n",
              "      <td id=\"T_a653b_row10_col10\" class=\"data row10 col10\" >252</td>\n",
              "      <td id=\"T_a653b_row10_col11\" class=\"data row10 col11\" >252</td>\n",
              "      <td id=\"T_a653b_row10_col12\" class=\"data row10 col12\" >252</td>\n",
              "      <td id=\"T_a653b_row10_col13\" class=\"data row10 col13\" >252</td>\n",
              "      <td id=\"T_a653b_row10_col14\" class=\"data row10 col14\" >252</td>\n",
              "      <td id=\"T_a653b_row10_col15\" class=\"data row10 col15\" >252</td>\n",
              "      <td id=\"T_a653b_row10_col16\" class=\"data row10 col16\" >158</td>\n",
              "    </tr>\n",
              "    <tr>\n",
              "      <th id=\"T_a653b_level0_row11\" class=\"row_heading level0 row11\" >11</th>\n",
              "      <td id=\"T_a653b_row11_col0\" class=\"data row11 col0\" >159</td>\n",
              "      <td id=\"T_a653b_row11_col1\" class=\"data row11 col1\" >246</td>\n",
              "      <td id=\"T_a653b_row11_col2\" class=\"data row11 col2\" >94</td>\n",
              "      <td id=\"T_a653b_row11_col3\" class=\"data row11 col3\" >11</td>\n",
              "      <td id=\"T_a653b_row11_col4\" class=\"data row11 col4\" >0</td>\n",
              "      <td id=\"T_a653b_row11_col5\" class=\"data row11 col5\" >0</td>\n",
              "      <td id=\"T_a653b_row11_col6\" class=\"data row11 col6\" >229</td>\n",
              "      <td id=\"T_a653b_row11_col7\" class=\"data row11 col7\" >252</td>\n",
              "      <td id=\"T_a653b_row11_col8\" class=\"data row11 col8\" >252</td>\n",
              "      <td id=\"T_a653b_row11_col9\" class=\"data row11 col9\" >253</td>\n",
              "      <td id=\"T_a653b_row11_col10\" class=\"data row11 col10\" >252</td>\n",
              "      <td id=\"T_a653b_row11_col11\" class=\"data row11 col11\" >252</td>\n",
              "      <td id=\"T_a653b_row11_col12\" class=\"data row11 col12\" >252</td>\n",
              "      <td id=\"T_a653b_row11_col13\" class=\"data row11 col13\" >252</td>\n",
              "      <td id=\"T_a653b_row11_col14\" class=\"data row11 col14\" >252</td>\n",
              "      <td id=\"T_a653b_row11_col15\" class=\"data row11 col15\" >252</td>\n",
              "      <td id=\"T_a653b_row11_col16\" class=\"data row11 col16\" >252</td>\n",
              "    </tr>\n",
              "    <tr>\n",
              "      <th id=\"T_a653b_level0_row12\" class=\"row_heading level0 row12\" >12</th>\n",
              "      <td id=\"T_a653b_row12_col0\" class=\"data row12 col0\" >252</td>\n",
              "      <td id=\"T_a653b_row12_col1\" class=\"data row12 col1\" >252</td>\n",
              "      <td id=\"T_a653b_row12_col2\" class=\"data row12 col2\" >252</td>\n",
              "      <td id=\"T_a653b_row12_col3\" class=\"data row12 col3\" >212</td>\n",
              "      <td id=\"T_a653b_row12_col4\" class=\"data row12 col4\" >106</td>\n",
              "      <td id=\"T_a653b_row12_col5\" class=\"data row12 col5\" >0</td>\n",
              "      <td id=\"T_a653b_row12_col6\" class=\"data row12 col6\" >48</td>\n",
              "      <td id=\"T_a653b_row12_col7\" class=\"data row12 col7\" >153</td>\n",
              "      <td id=\"T_a653b_row12_col8\" class=\"data row12 col8\" >252</td>\n",
              "      <td id=\"T_a653b_row12_col9\" class=\"data row12 col9\" >133</td>\n",
              "      <td id=\"T_a653b_row12_col10\" class=\"data row12 col10\" >132</td>\n",
              "      <td id=\"T_a653b_row12_col11\" class=\"data row12 col11\" >132</td>\n",
              "      <td id=\"T_a653b_row12_col12\" class=\"data row12 col12\" >189</td>\n",
              "      <td id=\"T_a653b_row12_col13\" class=\"data row12 col13\" >252</td>\n",
              "      <td id=\"T_a653b_row12_col14\" class=\"data row12 col14\" >252</td>\n",
              "      <td id=\"T_a653b_row12_col15\" class=\"data row12 col15\" >252</td>\n",
              "      <td id=\"T_a653b_row12_col16\" class=\"data row12 col16\" >252</td>\n",
              "    </tr>\n",
              "    <tr>\n",
              "      <th id=\"T_a653b_level0_row13\" class=\"row_heading level0 row13\" >13</th>\n",
              "      <td id=\"T_a653b_row13_col0\" class=\"data row13 col0\" >239</td>\n",
              "      <td id=\"T_a653b_row13_col1\" class=\"data row13 col1\" >252</td>\n",
              "      <td id=\"T_a653b_row13_col2\" class=\"data row13 col2\" >252</td>\n",
              "      <td id=\"T_a653b_row13_col3\" class=\"data row13 col3\" >252</td>\n",
              "      <td id=\"T_a653b_row13_col4\" class=\"data row13 col4\" >248</td>\n",
              "      <td id=\"T_a653b_row13_col5\" class=\"data row13 col5\" >223</td>\n",
              "      <td id=\"T_a653b_row13_col6\" class=\"data row13 col6\" >57</td>\n",
              "      <td id=\"T_a653b_row13_col7\" class=\"data row13 col7\" >6</td>\n",
              "      <td id=\"T_a653b_row13_col8\" class=\"data row13 col8\" >29</td>\n",
              "      <td id=\"T_a653b_row13_col9\" class=\"data row13 col9\" >0</td>\n",
              "      <td id=\"T_a653b_row13_col10\" class=\"data row13 col10\" >0</td>\n",
              "      <td id=\"T_a653b_row13_col11\" class=\"data row13 col11\" >0</td>\n",
              "      <td id=\"T_a653b_row13_col12\" class=\"data row13 col12\" >14</td>\n",
              "      <td id=\"T_a653b_row13_col13\" class=\"data row13 col13\" >29</td>\n",
              "      <td id=\"T_a653b_row13_col14\" class=\"data row13 col14\" >143</td>\n",
              "      <td id=\"T_a653b_row13_col15\" class=\"data row13 col15\" >252</td>\n",
              "      <td id=\"T_a653b_row13_col16\" class=\"data row13 col16\" >252</td>\n",
              "    </tr>\n",
              "    <tr>\n",
              "      <th id=\"T_a653b_level0_row14\" class=\"row_heading level0 row14\" >14</th>\n",
              "      <td id=\"T_a653b_row14_col0\" class=\"data row14 col0\" >61</td>\n",
              "      <td id=\"T_a653b_row14_col1\" class=\"data row14 col1\" >171</td>\n",
              "      <td id=\"T_a653b_row14_col2\" class=\"data row14 col2\" >252</td>\n",
              "      <td id=\"T_a653b_row14_col3\" class=\"data row14 col3\" >252</td>\n",
              "      <td id=\"T_a653b_row14_col4\" class=\"data row14 col4\" >252</td>\n",
              "      <td id=\"T_a653b_row14_col5\" class=\"data row14 col5\" >252</td>\n",
              "      <td id=\"T_a653b_row14_col6\" class=\"data row14 col6\" >226</td>\n",
              "      <td id=\"T_a653b_row14_col7\" class=\"data row14 col7\" >152</td>\n",
              "      <td id=\"T_a653b_row14_col8\" class=\"data row14 col8\" >30</td>\n",
              "      <td id=\"T_a653b_row14_col9\" class=\"data row14 col9\" >18</td>\n",
              "      <td id=\"T_a653b_row14_col10\" class=\"data row14 col10\" >0</td>\n",
              "      <td id=\"T_a653b_row14_col11\" class=\"data row14 col11\" >0</td>\n",
              "      <td id=\"T_a653b_row14_col12\" class=\"data row14 col12\" >0</td>\n",
              "      <td id=\"T_a653b_row14_col13\" class=\"data row14 col13\" >0</td>\n",
              "      <td id=\"T_a653b_row14_col14\" class=\"data row14 col14\" >30</td>\n",
              "      <td id=\"T_a653b_row14_col15\" class=\"data row14 col15\" >252</td>\n",
              "      <td id=\"T_a653b_row14_col16\" class=\"data row14 col16\" >252</td>\n",
              "    </tr>\n",
              "    <tr>\n",
              "      <th id=\"T_a653b_level0_row15\" class=\"row_heading level0 row15\" >15</th>\n",
              "      <td id=\"T_a653b_row15_col0\" class=\"data row15 col0\" >0</td>\n",
              "      <td id=\"T_a653b_row15_col1\" class=\"data row15 col1\" >7</td>\n",
              "      <td id=\"T_a653b_row15_col2\" class=\"data row15 col2\" >118</td>\n",
              "      <td id=\"T_a653b_row15_col3\" class=\"data row15 col3\" >236</td>\n",
              "      <td id=\"T_a653b_row15_col4\" class=\"data row15 col4\" >252</td>\n",
              "      <td id=\"T_a653b_row15_col5\" class=\"data row15 col5\" >252</td>\n",
              "      <td id=\"T_a653b_row15_col6\" class=\"data row15 col6\" >252</td>\n",
              "      <td id=\"T_a653b_row15_col7\" class=\"data row15 col7\" >252</td>\n",
              "      <td id=\"T_a653b_row15_col8\" class=\"data row15 col8\" >252</td>\n",
              "      <td id=\"T_a653b_row15_col9\" class=\"data row15 col9\" >204</td>\n",
              "      <td id=\"T_a653b_row15_col10\" class=\"data row15 col10\" >134</td>\n",
              "      <td id=\"T_a653b_row15_col11\" class=\"data row15 col11\" >134</td>\n",
              "      <td id=\"T_a653b_row15_col12\" class=\"data row15 col12\" >134</td>\n",
              "      <td id=\"T_a653b_row15_col13\" class=\"data row15 col13\" >134</td>\n",
              "      <td id=\"T_a653b_row15_col14\" class=\"data row15 col14\" >148</td>\n",
              "      <td id=\"T_a653b_row15_col15\" class=\"data row15 col15\" >252</td>\n",
              "      <td id=\"T_a653b_row15_col16\" class=\"data row15 col16\" >252</td>\n",
              "    </tr>\n",
              "    <tr>\n",
              "      <th id=\"T_a653b_level0_row16\" class=\"row_heading level0 row16\" >16</th>\n",
              "      <td id=\"T_a653b_row16_col0\" class=\"data row16 col0\" >0</td>\n",
              "      <td id=\"T_a653b_row16_col1\" class=\"data row16 col1\" >0</td>\n",
              "      <td id=\"T_a653b_row16_col2\" class=\"data row16 col2\" >0</td>\n",
              "      <td id=\"T_a653b_row16_col3\" class=\"data row16 col3\" >12</td>\n",
              "      <td id=\"T_a653b_row16_col4\" class=\"data row16 col4\" >129</td>\n",
              "      <td id=\"T_a653b_row16_col5\" class=\"data row16 col5\" >252</td>\n",
              "      <td id=\"T_a653b_row16_col6\" class=\"data row16 col6\" >252</td>\n",
              "      <td id=\"T_a653b_row16_col7\" class=\"data row16 col7\" >252</td>\n",
              "      <td id=\"T_a653b_row16_col8\" class=\"data row16 col8\" >252</td>\n",
              "      <td id=\"T_a653b_row16_col9\" class=\"data row16 col9\" >253</td>\n",
              "      <td id=\"T_a653b_row16_col10\" class=\"data row16 col10\" >252</td>\n",
              "      <td id=\"T_a653b_row16_col11\" class=\"data row16 col11\" >252</td>\n",
              "      <td id=\"T_a653b_row16_col12\" class=\"data row16 col12\" >252</td>\n",
              "      <td id=\"T_a653b_row16_col13\" class=\"data row16 col13\" >252</td>\n",
              "      <td id=\"T_a653b_row16_col14\" class=\"data row16 col14\" >252</td>\n",
              "      <td id=\"T_a653b_row16_col15\" class=\"data row16 col15\" >252</td>\n",
              "      <td id=\"T_a653b_row16_col16\" class=\"data row16 col16\" >252</td>\n",
              "    </tr>\n",
              "  </tbody>\n",
              "</table>\n"
            ]
          },
          "metadata": {},
          "execution_count": 20
        }
      ]
    },
    {
      "cell_type": "code",
      "source": [
        "three_tensors=[tensor(Image.open(i)) for i in threes]\n",
        "seven_tensors=[tensor(Image.open(i)) for i in sevens]\n",
        "\n",
        "len(three_tensors),len(seven_tensors)"
      ],
      "metadata": {
        "colab": {
          "base_uri": "https://localhost:8080/"
        },
        "id": "5ERYEzRX5ZTI",
        "outputId": "ab1ab8b1-8665-4e54-d43f-09dcdf6d09d2"
      },
      "execution_count": 21,
      "outputs": [
        {
          "output_type": "execute_result",
          "data": {
            "text/plain": [
              "(6131, 6265)"
            ]
          },
          "metadata": {},
          "execution_count": 21
        }
      ]
    },
    {
      "cell_type": "code",
      "source": [
        "stacked_three=torch.stack(three_tensors).float()/255\n",
        "stacked_seven=torch.stack(seven_tensors).float()/255\n",
        "stacked_three.shape, stacked_seven.shape"
      ],
      "metadata": {
        "colab": {
          "base_uri": "https://localhost:8080/"
        },
        "id": "E9jf1uSj7TJ6",
        "outputId": "f9e9593f-5914-437e-c1b7-f8ee5407c6c1"
      },
      "execution_count": 22,
      "outputs": [
        {
          "output_type": "execute_result",
          "data": {
            "text/plain": [
              "(torch.Size([6131, 28, 28]), torch.Size([6265, 28, 28]))"
            ]
          },
          "metadata": {},
          "execution_count": 22
        }
      ]
    },
    {
      "cell_type": "code",
      "source": [
        "mean3=stacked_three.mean(0)\n",
        "mean7=stacked_seven.mean(0)\n",
        "mean3.shape, mean7.shape"
      ],
      "metadata": {
        "colab": {
          "base_uri": "https://localhost:8080/"
        },
        "id": "BLd9ir029C0D",
        "outputId": "b6bf0809-90ae-486f-8aab-84c7416b15dc"
      },
      "execution_count": 24,
      "outputs": [
        {
          "output_type": "execute_result",
          "data": {
            "text/plain": [
              "(torch.Size([28, 28]), torch.Size([28, 28]))"
            ]
          },
          "metadata": {},
          "execution_count": 24
        }
      ]
    },
    {
      "cell_type": "code",
      "source": [
        "show_image(mean3)"
      ],
      "metadata": {
        "colab": {
          "base_uri": "https://localhost:8080/",
          "height": 131
        },
        "id": "nyX1YLqn9Ku4",
        "outputId": "28a23ca5-7ee9-403a-f380-b71eb3104be0"
      },
      "execution_count": 25,
      "outputs": [
        {
          "output_type": "execute_result",
          "data": {
            "text/plain": [
              "<Axes: >"
            ]
          },
          "metadata": {},
          "execution_count": 25
        },
        {
          "output_type": "display_data",
          "data": {
            "text/plain": [
              "<Figure size 100x100 with 1 Axes>"
            ],
            "image/png": "[encoded data removed]"
          },
          "metadata": {}
        }
      ]
    },
    {
      "cell_type": "code",
      "source": [
        "show_image(mean7)"
      ],
      "metadata": {
        "colab": {
          "base_uri": "https://localhost:8080/",
          "height": 131
        },
        "id": "aHF-Rs_P9Pno",
        "outputId": "ab35a2d1-205c-42f3-ccc5-37077cf15120"
      },
      "execution_count": 26,
      "outputs": [
        {
          "output_type": "execute_result",
          "data": {
            "text/plain": [
              "<Axes: >"
            ]
          },
          "metadata": {},
          "execution_count": 26
        },
        {
          "output_type": "display_data",
          "data": {
            "text/plain": [
              "<Figure size 100x100 with 1 Axes>"
            ],
            "image/png": "[encoded data removed]"
          },
          "metadata": {}
        }
      ]
    },
    {
      "cell_type": "code",
      "source": [
        "s_3=stacked_three[6]\n",
        "show_image(s_3)"
      ],
      "metadata": {
        "colab": {
          "base_uri": "https://localhost:8080/",
          "height": 131
        },
        "id": "yBr3gHTo9SG3",
        "outputId": "719b373b-ccc1-4fb8-96c0-b91f26379885"
      },
      "execution_count": 31,
      "outputs": [
        {
          "output_type": "execute_result",
          "data": {
            "text/plain": [
              "<Axes: >"
            ]
          },
          "metadata": {},
          "execution_count": 31
        },
        {
          "output_type": "display_data",
          "data": {
            "text/plain": [
              "<Figure size 100x100 with 1 Axes>"
            ],
            "image/png": "[encoded data removed]"
          },
          "metadata": {}
        }
      ]
    },
    {
      "cell_type": "code",
      "source": [
        "#mae\n",
        "mae=(s_3-mean3).abs().mean()\n",
        "\n",
        "#rmse\n",
        "rmse=((s_3-mean3)**2).mean().sqrt()\n",
        "\n",
        "mae,rmse"
      ],
      "metadata": {
        "colab": {
          "base_uri": "https://localhost:8080/"
        },
        "id": "mASTd9wB-bjL",
        "outputId": "df61363e-4e5f-4311-9c9a-998d42ba53a2"
      },
      "execution_count": 32,
      "outputs": [
        {
          "output_type": "execute_result",
          "data": {
            "text/plain": [
              "(tensor(0.1158), tensor(0.2104))"
            ]
          },
          "metadata": {},
          "execution_count": 32
        }
      ]
    },
    {
      "cell_type": "code",
      "source": [
        "#mae\n",
        "mae=(s_3-mean7).abs().mean()\n",
        "\n",
        "#rmse\n",
        "rmse=((s_3-mean7)**2).mean().sqrt()\n",
        "\n",
        "mae,rmse"
      ],
      "metadata": {
        "colab": {
          "base_uri": "https://localhost:8080/"
        },
        "id": "J5Zta1eN-yB6",
        "outputId": "36ae8d50-e966-4712-ab2d-5f2b69dc1638"
      },
      "execution_count": 33,
      "outputs": [
        {
          "output_type": "execute_result",
          "data": {
            "text/plain": [
              "(tensor(0.1760), tensor(0.3259))"
            ]
          },
          "metadata": {},
          "execution_count": 33
        }
      ]
    },
    {
      "cell_type": "code",
      "source": [],
      "metadata": {
        "id": "MlDt9NYE-17Z"
      },
      "execution_count": null,
      "outputs": []
    },
    {
      "cell_type": "code",
      "source": [
        "valid_3_tens=torch.stack([tensor(Image.open(i)) for i in (path/'valid'/'3').ls()])\n",
        "valid_3_tens=valid_3_tens.float()/255\n",
        "valid_7_tens=torch.stack([tensor(Image.open(i)) for i in (path/'valid'/'7').ls()])\n",
        "valid_7_tens=valid_7_tens.float()/255\n",
        "valid_3_tens.shape, valid_7_tens.shape"
      ],
      "metadata": {
        "colab": {
          "base_uri": "https://localhost:8080/"
        },
        "id": "h5-lQSxxE7z-",
        "outputId": "641d8eef-08df-4d01-9809-cf9481dc942d"
      },
      "execution_count": 36,
      "outputs": [
        {
          "output_type": "execute_result",
          "data": {
            "text/plain": [
              "(torch.Size([1010, 28, 28]), torch.Size([1028, 28, 28]))"
            ]
          },
          "metadata": {},
          "execution_count": 36
        }
      ]
    },
    {
      "cell_type": "code",
      "source": [
        "#MAE\n",
        "def mae(a,b):\n",
        "  return (a-b).abs().mean((-1, -2))\n",
        "\n",
        "mae(s_3, mean3)\n",
        "\n",
        "valid_3_errors=mae(valid_3_tens, mean3)\n",
        "valid_7_errors=mae(valid_7_tens, mean7)\n",
        "valid_3_errors, valid_3_errors.shape"
      ],
      "metadata": {
        "colab": {
          "base_uri": "https://localhost:8080/"
        },
        "id": "MUzp7mK0FWv5",
        "outputId": "124a8848-fd02-4f3c-d529-dbf096e29a42"
      },
      "execution_count": 41,
      "outputs": [
        {
          "output_type": "execute_result",
          "data": {
            "text/plain": [
              "(tensor([0.1111, 0.1230, 0.1109,  ..., 0.1818, 0.1430, 0.1131]),\n",
              " torch.Size([1010]))"
            ]
          },
          "metadata": {},
          "execution_count": 41
        }
      ]
    },
    {
      "cell_type": "code",
      "source": [
        "def is_3(x):\n",
        "  return mae(x, mean3) < mae(x, mean7)\n",
        "\n",
        "def is_7(x):\n",
        "  return mae(x, mean7) <mae(x, mean3)\n",
        "\n",
        "is_3(s_3), is_7(s_3).float()"
      ],
      "metadata": {
        "colab": {
          "base_uri": "https://localhost:8080/"
        },
        "id": "MfBrz3J6HLpF",
        "outputId": "187cda9f-9e16-4aa8-8092-0fc5c5dca498"
      },
      "execution_count": 43,
      "outputs": [
        {
          "output_type": "execute_result",
          "data": {
            "text/plain": [
              "(tensor(True), tensor(0.))"
            ]
          },
          "metadata": {},
          "execution_count": 43
        }
      ]
    },
    {
      "cell_type": "code",
      "source": [
        "accruncy_3_s=(is_3(valid_3_tens).float()).mean()\n",
        "accruncy_7_s=(is_7(valid_7_tens).float()).mean()\n",
        "accruncy_3_s, accruncy_7_s, (accruncy_3_s+accruncy_7_s)/2"
      ],
      "metadata": {
        "colab": {
          "base_uri": "https://localhost:8080/"
        },
        "id": "Vd4zQ4qhJV4G",
        "outputId": "caba3aca-048a-4824-d2e1-78aa6aea21c9"
      },
      "execution_count": 45,
      "outputs": [
        {
          "output_type": "execute_result",
          "data": {
            "text/plain": [
              "(tensor(0.9168), tensor(0.9854), tensor(0.9511))"
            ]
          },
          "metadata": {},
          "execution_count": 45
        }
      ]
    },
    {
      "cell_type": "code",
      "source": [
        "accruncy_3_s1=(is_3(valid_3_tens).float())\n",
        "accruncy_7_s1=(is_7(valid_7_tens).float())\n",
        "accruncy_3_s1, accruncy_7_s1"
      ],
      "metadata": {
        "colab": {
          "base_uri": "https://localhost:8080/"
        },
        "id": "LFOwp845KOZB",
        "outputId": "af3f1497-5579-463a-c075-ea56dcc27c95"
      },
      "execution_count": 47,
      "outputs": [
        {
          "output_type": "execute_result",
          "data": {
            "text/plain": [
              "(tensor([1., 1., 1.,  ..., 0., 1., 1.]),\n",
              " tensor([1., 1., 1.,  ..., 1., 1., 1.]))"
            ]
          },
          "metadata": {},
          "execution_count": 47
        }
      ]
    },
    {
      "cell_type": "code",
      "source": [
        "accruncy_3_s1[-3]"
      ],
      "metadata": {
        "colab": {
          "base_uri": "https://localhost:8080/"
        },
        "id": "TwiYz-3NKTA9",
        "outputId": "8bc46ca0-877e-49b6-ee18-8759674462b8"
      },
      "execution_count": 56,
      "outputs": [
        {
          "output_type": "execute_result",
          "data": {
            "text/plain": [
              "tensor(0.)"
            ]
          },
          "metadata": {},
          "execution_count": 56
        }
      ]
    },
    {
      "cell_type": "code",
      "source": [
        "accruncy_7_s1[297]"
      ],
      "metadata": {
        "colab": {
          "base_uri": "https://localhost:8080/"
        },
        "id": "733b8hooKd9S",
        "outputId": "5b19bb6f-509e-41eb-ff7c-ede8e9bcd450"
      },
      "execution_count": 55,
      "outputs": [
        {
          "output_type": "execute_result",
          "data": {
            "text/plain": [
              "tensor(1.)"
            ]
          },
          "metadata": {},
          "execution_count": 55
        }
      ]
    },
    {
      "cell_type": "code",
      "source": [
        "\n"
      ],
      "metadata": {
        "id": "OiNgaEnPKgVK"
      },
      "execution_count": null,
      "outputs": []
    }
  ]
}